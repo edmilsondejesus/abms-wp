{
 "cells": [
  {
   "cell_type": "code",
   "execution_count": 1,
   "metadata": {},
   "outputs": [
    {
     "name": "stdout",
     "output_type": "stream",
     "text": [
      "Arquivo 'Tabela_consumo_Itapua_120m_por_mes.csv' gerado com sucesso!\n"
     ]
    }
   ],
   "source": [
    "import pandas as pd\n",
    "from datetime import datetime\n",
    "import os\n",
    "\n",
    "caminho = 'C:\\\\Users\\\\Edmilson\\\\Gama_Workspace2\\\\ABMS-WP'\n",
    "\n",
    "# Lendo o arquivo (assumindo que é CSV com ponto e vírgula como delimitador)\n",
    "df = pd.read_csv(os.path.join(caminho,'includes\\\\Tabela_consumo_Itapua_120m.csv'), sep=';', quotechar='\"')\n",
    "\n",
    "# Convertendo a coluna de data para datetime\n",
    "df['DT_LEITURA'] = pd.to_datetime(df['DT_LEITURA'])\n",
    "\n",
    "# Convertendo consumo para metros (dividindo por 1000)\n",
    "#df['HCLQTCON'] = df['HCLQTCON'] / 1000\n",
    "\n",
    "# Agrupando por mês/ano e somando o consumo\n",
    "resultado = df.groupby('AM_REFERENCIA').agg({\n",
    "    'HCLQTCON': 'sum',\n",
    "    'DT_LEITURA': 'first'  # Pegando a primeira data de leitura do mês\n",
    "}).reset_index()\n",
    "\n",
    "# Renomeando colunas\n",
    "resultado = resultado.rename(columns={\n",
    "    'AM_REFERENCIA': 'mes/ano',\n",
    "    'HCLQTCON': 'consumo',\n",
    "    'DT_LEITURA': 'data'\n",
    "})\n",
    "\n",
    "\n",
    "# Formatando a data para ser o primeiro dia do mês\n",
    "resultado['data'] = resultado['mes/ano'].apply(lambda x: datetime.strptime(str(x) + '01', '%Y%m%d').date())\n",
    "\n",
    "# Ordenando por mes/ano\n",
    "resultado = resultado.sort_values('mes/ano')\n",
    "\n",
    "# Selecionando e ordenando as colunas conforme solicitado\n",
    "resultado = resultado[['mes/ano', 'consumo', 'data']]\n",
    "\n",
    "# Salvando o resultado em um novo arquivo\n",
    "resultado.to_csv(os.path.join(caminho,'includes\\\\Tabela_consumo_Itapua_120m_por_mes.csv'), index=False, sep=';', quotechar='\"')\n",
    "\n",
    "print(\"Arquivo 'Tabela_consumo_Itapua_120m_por_mes.csv' gerado com sucesso!\")"
   ]
  }
 ],
 "metadata": {
  "kernelspec": {
   "display_name": "Python 3",
   "language": "python",
   "name": "python3"
  },
  "language_info": {
   "codemirror_mode": {
    "name": "ipython",
    "version": 3
   },
   "file_extension": ".py",
   "mimetype": "text/x-python",
   "name": "python",
   "nbconvert_exporter": "python",
   "pygments_lexer": "ipython3",
   "version": "3.11.7"
  }
 },
 "nbformat": 4,
 "nbformat_minor": 2
}
