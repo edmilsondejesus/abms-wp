{
 "cells": [
  {
   "cell_type": "code",
   "execution_count": 36,
   "metadata": {},
   "outputs": [
    {
     "name": "stdout",
     "output_type": "stream",
     "text": [
      "Requirement already satisfied: pyproj in c:\\python\\lib\\site-packages (3.7.0)Note: you may need to restart the kernel to use updated packages.\n",
      "\n",
      "Requirement already satisfied: certifi in c:\\python\\lib\\site-packages (from pyproj) (2021.10.8)\n"
     ]
    },
    {
     "name": "stderr",
     "output_type": "stream",
     "text": [
      "\n",
      "[notice] A new release of pip is available: 24.0 -> 24.3.1\n",
      "[notice] To update, run: python.exe -m pip install --upgrade pip\n"
     ]
    }
   ],
   "source": [
    "pip install pyproj"
   ]
  },
  {
   "cell_type": "code",
   "execution_count": null,
   "metadata": {},
   "outputs": [],
   "source": [
    "import pandas as pd\n",
    "from pyproj import Transformer\n",
    "import os\n",
    "caminho = 'C:\\\\Users\\\\Edmilson\\\\Gama_Workspace2\\\\ABMS-WP'\n",
    "\n",
    "# Input CSV file path\n",
    "input_csv_path = os.path.join(caminho, 'includes\\\\Tabela_consumidores_Itapua.csv')\n",
    "# Output CSV file path\n",
    "output_csv_path = os.path.join(caminho, 'includes\\\\Tabela_consumidores_Itapua_convertida.csv')\n"
   ]
  },
  {
   "cell_type": "code",
   "execution_count": null,
   "metadata": {},
   "outputs": [],
   "source": [
    "# Read file  CSV\n",
    "df = pd.read_csv(input_csv_path, delimiter=\";\")\n",
    "\n",
    "# Definir o sistema de coordenadas de origem (WGS84 - Latitude/Longitude) e destino (UTM zona 24S - EPSG:31984)\n",
    "#transformer = Transformer.from_crs(\"EPSG:4326\", \"EPSG:31984\", always_xy=True)\n",
    "#transformer = Transformer.from_crs(\"EPSG:4326\", \"EPSG:29194\", always_xy=True)\n",
    "\n",
    "# Define origin system coordenates  (WGS84 - Latitude/Longitude) to destination  (SIRGAS 2000 UTM Zone 24S - EPSG:31984)\n",
    "transformer = Transformer.from_crs(\"EPSG:4326\", \"EPSG:31984\", always_xy=True)\n",
    "\n",
    "\n",
    "# Fucntion to convert coordenates\n",
    "def converter_coordenadas(lat, lon):\n",
    "    x, y = transformer.transform(lon, lat)\n",
    "    return x, y"
   ]
  },
  {
   "cell_type": "code",
   "execution_count": null,
   "metadata": {},
   "outputs": [
    {
     "name": "stdout",
     "output_type": "stream",
     "text": [
      "Arquivo convertido salvo em: C:\\Users\\Edmilson\\Gama_Workspace\\ABM_Teste\\includes\\Tabela_consumidores_convertida.csv\n"
     ]
    }
   ],
   "source": [
    "# Apply the conversion to each row of the DataFrame\n",
    "df[[\"X\", \"Y\"]] = df.apply(lambda row: converter_coordenadas(row[\"LAT_GEO\"], row[\"LONG_GEO\"]), axis=1, result_type=\"expand\")\n",
    "\n",
    "# Save the DataFrame with the converted coordinates to a new CSV file\n",
    "df=df.dropna(subset=[\"X\"])\n",
    "df.to_csv(output_csv_path, sep=\";\", index=False)\n",
    "\n",
    "print(f\"File saved on: {output_csv_path}\")"
   ]
  }
 ],
 "metadata": {
  "kernelspec": {
   "display_name": "Python 3",
   "language": "python",
   "name": "python3"
  },
  "language_info": {
   "codemirror_mode": {
    "name": "ipython",
    "version": 3
   },
   "file_extension": ".py",
   "mimetype": "text/x-python",
   "name": "python",
   "nbconvert_exporter": "python",
   "pygments_lexer": "ipython3",
   "version": "3.11.7"
  }
 },
 "nbformat": 4,
 "nbformat_minor": 2
}
