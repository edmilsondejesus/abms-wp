{
 "cells": [
  {
   "cell_type": "code",
   "execution_count": 17,
   "metadata": {},
   "outputs": [
    {
     "name": "stdout",
     "output_type": "stream",
     "text": [
      "    CD_SETOR  NUM_LIGACOES\n",
      "55      S186           296\n",
      "52      S178           292\n",
      "30      S103           292\n",
      "94      S324           291\n",
      "0       S020           276\n",
      "..       ...           ...\n",
      "102       Sn            35\n",
      "89      S313            24\n",
      "79      S296            24\n",
      "15      S035            11\n",
      "95      S325             1\n",
      "\n",
      "[102 rows x 2 columns]\n"
     ]
    }
   ],
   "source": [
    "import pandas as pd\n",
    "import os\n",
    "caminho = 'C:\\\\Users\\\\Edmilson\\\\Gama_Workspace2\\\\ABMS-WP'\n",
    "# 1. Carregar o arquivo.csv com a coluna CD_SETOR e SK_MATRICULA\n",
    "arquivo_df = pd.read_csv(os.path.join(caminho,'includes\\\\Tabela_consumidores_Itapua_com_setor.csv'), sep=',')\n",
    "\n",
    "# Extrair os últimos 3 caracteres da coluna CD_SETOR\n",
    "arquivo_df['CD_SETOR'] = 'S' + arquivo_df['CD_SETOR'].astype(str).str[-5:-2]\n",
    "\n",
    "# 2. Quantificar o número de ligações (SK_MATRICULA) por setor (CD_SETOR)\n",
    "ligacoes_por_setor = arquivo_df.groupby('CD_SETOR')['SK_MATRICULA'].count().reset_index()\n",
    "ligacoes_por_setor.rename(columns={'SK_MATRICULA': 'NUM_LIGACOES'}, inplace=True)\n",
    "\n",
    "# 3. Ordenar os setores pelo número de ligações (do maior para o menor)\n",
    "ligacoes_por_setor = ligacoes_por_setor.sort_values(by='NUM_LIGACOES', ascending=False)\n",
    "\n",
    "# 4. Selecionar os 10 maiores setores\n",
    "top_10_setores = ligacoes_por_setor.head(102)\n",
    "\n",
    "# 5. Salvar o resultado em um novo arquivo CSV (opcional)\n",
    "top_10_setores.to_csv(os.path.join(caminho,'includes\\\\Tabela_top_10_setores.csv'), index=False)\n",
    "\n",
    "# 6. Visualizar o resultado\n",
    "print(top_10_setores)"
   ]
  }
 ],
 "metadata": {
  "kernelspec": {
   "display_name": "Python 3",
   "language": "python",
   "name": "python3"
  },
  "language_info": {
   "codemirror_mode": {
    "name": "ipython",
    "version": 3
   },
   "file_extension": ".py",
   "mimetype": "text/x-python",
   "name": "python",
   "nbconvert_exporter": "python",
   "pygments_lexer": "ipython3",
   "version": "3.11.7"
  }
 },
 "nbformat": 4,
 "nbformat_minor": 2
}
