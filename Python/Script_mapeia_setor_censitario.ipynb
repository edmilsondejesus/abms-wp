{
 "cells": [
  {
   "cell_type": "code",
   "execution_count": null,
   "metadata": {},
   "outputs": [
    {
     "name": "stdout",
     "output_type": "stream",
     "text": [
      "Requirement already satisfied: geopandas in c:\\python\\lib\\site-packages (1.0.1)\n",
      "Requirement already satisfied: pandas in c:\\python\\lib\\site-packages (2.2.1)\n",
      "Requirement already satisfied: shapely in c:\\python\\lib\\site-packages (2.0.7)\n",
      "Requirement already satisfied: numpy>=1.22 in c:\\python\\lib\\site-packages (from geopandas) (1.26.4)\n",
      "Requirement already satisfied: pyogrio>=0.7.2 in c:\\python\\lib\\site-packages (from geopandas) (0.10.0)\n",
      "Requirement already satisfied: packaging in c:\\python\\lib\\site-packages (from geopandas) (21.3)\n",
      "Requirement already satisfied: pyproj>=3.3.0 in c:\\python\\lib\\site-packages (from geopandas) (3.7.0)\n",
      "Requirement already satisfied: python-dateutil>=2.8.2 in c:\\python\\lib\\site-packages (from pandas) (2.8.2)\n",
      "Requirement already satisfied: pytz>=2020.1 in c:\\python\\lib\\site-packages (from pandas) (2024.1)\n",
      "Requirement already satisfied: tzdata>=2022.7 in c:\\python\\lib\\site-packages (from pandas) (2024.1)\n",
      "Requirement already satisfied: certifi in c:\\python\\lib\\site-packages (from pyogrio>=0.7.2->geopandas) (2021.10.8)\n",
      "Requirement already satisfied: six>=1.5 in c:\\python\\lib\\site-packages (from python-dateutil>=2.8.2->pandas) (1.16.0)\n",
      "Requirement already satisfied: pyparsing!=3.0.5,>=2.0.2 in c:\\python\\lib\\site-packages (from packaging->geopandas) (3.1.2)\n"
     ]
    },
    {
     "name": "stderr",
     "output_type": "stream",
     "text": [
      "\n",
      "[notice] A new release of pip is available: 24.0 -> 25.0.1\n",
      "[notice] To update, run: python.exe -m pip install --upgrade pip\n"
     ]
    }
   ],
   "source": [
    "#!pip install geopandas pandas shapely"
   ]
  },
  {
   "cell_type": "code",
   "execution_count": null,
   "metadata": {},
   "outputs": [
    {
     "data": {
      "text/html": [
       "<div>\n",
       "<style scoped>\n",
       "    .dataframe tbody tr th:only-of-type {\n",
       "        vertical-align: middle;\n",
       "    }\n",
       "\n",
       "    .dataframe tbody tr th {\n",
       "        vertical-align: top;\n",
       "    }\n",
       "\n",
       "    .dataframe thead th {\n",
       "        text-align: right;\n",
       "    }\n",
       "</style>\n",
       "<table border=\"1\" class=\"dataframe\">\n",
       "  <thead>\n",
       "    <tr style=\"text-align: right;\">\n",
       "      <th></th>\n",
       "      <th>CD_SETOR</th>\n",
       "      <th>geometry</th>\n",
       "    </tr>\n",
       "  </thead>\n",
       "  <tbody>\n",
       "    <tr>\n",
       "      <th>0</th>\n",
       "      <td>292740805090020</td>\n",
       "      <td>POLYGON ((-38.36855 -12.94796, -38.36859 -12.9...</td>\n",
       "    </tr>\n",
       "    <tr>\n",
       "      <th>1</th>\n",
       "      <td>292740805090021</td>\n",
       "      <td>POLYGON ((-38.36738 -12.94851, -38.36739 -12.9...</td>\n",
       "    </tr>\n",
       "    <tr>\n",
       "      <th>2</th>\n",
       "      <td>292740805090022</td>\n",
       "      <td>POLYGON ((-38.36442 -12.94586, -38.36457 -12.9...</td>\n",
       "    </tr>\n",
       "    <tr>\n",
       "      <th>3</th>\n",
       "      <td>292740805090023</td>\n",
       "      <td>POLYGON ((-38.36433 -12.94755, -38.36433 -12.9...</td>\n",
       "    </tr>\n",
       "    <tr>\n",
       "      <th>4</th>\n",
       "      <td>292740805090024</td>\n",
       "      <td>POLYGON ((-38.36165 -12.94856, -38.36168 -12.9...</td>\n",
       "    </tr>\n",
       "  </tbody>\n",
       "</table>\n",
       "</div>"
      ],
      "text/plain": [
       "          CD_SETOR                                           geometry\n",
       "0  292740805090020  POLYGON ((-38.36855 -12.94796, -38.36859 -12.9...\n",
       "1  292740805090021  POLYGON ((-38.36738 -12.94851, -38.36739 -12.9...\n",
       "2  292740805090022  POLYGON ((-38.36442 -12.94586, -38.36457 -12.9...\n",
       "3  292740805090023  POLYGON ((-38.36433 -12.94755, -38.36433 -12.9...\n",
       "4  292740805090024  POLYGON ((-38.36165 -12.94856, -38.36168 -12.9..."
      ]
     },
     "execution_count": 10,
     "metadata": {},
     "output_type": "execute_result"
    }
   ],
   "source": [
    "import geopandas as gpd\n",
    "import pandas as pd\n",
    "from shapely.geometry import Point\n",
    "import os\n",
    "caminho = 'C:\\\\Users\\\\Edmilson\\\\Gama_Workspace2\\\\ABMS-WP'\n",
    "\n",
    "# 1. Load the census tract shapefile\n",
    "setores = gpd.read_file(os.path.join(caminho,'includes\\\\maps\\\\itapua\\\\Mapa_Itapua.shp'))\n",
    "\n",
    "# 2. Select only the CD_SETOR column and the geometry\n",
    "setores = setores[['CD_SETOR', 'geometry']]\n",
    "\n",
    "# 3. Displaying the polygon and its respective sectors\n",
    "setores.head()"
   ]
  },
  {
   "cell_type": "code",
   "execution_count": null,
   "metadata": {},
   "outputs": [
    {
     "data": {
      "text/html": [
       "<div>\n",
       "<style scoped>\n",
       "    .dataframe tbody tr th:only-of-type {\n",
       "        vertical-align: middle;\n",
       "    }\n",
       "\n",
       "    .dataframe tbody tr th {\n",
       "        vertical-align: top;\n",
       "    }\n",
       "\n",
       "    .dataframe thead th {\n",
       "        text-align: right;\n",
       "    }\n",
       "</style>\n",
       "<table border=\"1\" class=\"dataframe\">\n",
       "  <thead>\n",
       "    <tr style=\"text-align: right;\">\n",
       "      <th></th>\n",
       "      <th>SK_MATRICULA</th>\n",
       "      <th>NM_SUBCATEGORIA</th>\n",
       "      <th>NN_MORADORES</th>\n",
       "      <th>ST_PISCINA</th>\n",
       "      <th>LAT_GEO</th>\n",
       "      <th>LONG_GEO</th>\n",
       "      <th>X</th>\n",
       "      <th>Y</th>\n",
       "    </tr>\n",
       "  </thead>\n",
       "  <tbody>\n",
       "    <tr>\n",
       "      <th>0</th>\n",
       "      <td>124584355</td>\n",
       "      <td>NORMAL</td>\n",
       "      <td>5</td>\n",
       "      <td>0</td>\n",
       "      <td>-12.950571</td>\n",
       "      <td>-38.373685</td>\n",
       "      <td>567933.093052</td>\n",
       "      <td>8.568247e+06</td>\n",
       "    </tr>\n",
       "    <tr>\n",
       "      <th>1</th>\n",
       "      <td>152961499</td>\n",
       "      <td>NORMAL</td>\n",
       "      <td>1</td>\n",
       "      <td>0</td>\n",
       "      <td>-12.943031</td>\n",
       "      <td>-38.366573</td>\n",
       "      <td>568706.588075</td>\n",
       "      <td>8.569079e+06</td>\n",
       "    </tr>\n",
       "    <tr>\n",
       "      <th>2</th>\n",
       "      <td>125305257</td>\n",
       "      <td>INTERMEDIARIA</td>\n",
       "      <td>8</td>\n",
       "      <td>0</td>\n",
       "      <td>-12.944554</td>\n",
       "      <td>-38.363644</td>\n",
       "      <td>569023.883741</td>\n",
       "      <td>8.568910e+06</td>\n",
       "    </tr>\n",
       "    <tr>\n",
       "      <th>3</th>\n",
       "      <td>123863460</td>\n",
       "      <td>NORMAL</td>\n",
       "      <td>3</td>\n",
       "      <td>0</td>\n",
       "      <td>-12.940758</td>\n",
       "      <td>-38.369058</td>\n",
       "      <td>568437.655084</td>\n",
       "      <td>8.569331e+06</td>\n",
       "    </tr>\n",
       "    <tr>\n",
       "      <th>4</th>\n",
       "      <td>126026156</td>\n",
       "      <td>NORMAL</td>\n",
       "      <td>2</td>\n",
       "      <td>0</td>\n",
       "      <td>-12.936883</td>\n",
       "      <td>-38.358508</td>\n",
       "      <td>569583.120489</td>\n",
       "      <td>8.569757e+06</td>\n",
       "    </tr>\n",
       "  </tbody>\n",
       "</table>\n",
       "</div>"
      ],
      "text/plain": [
       "   SK_MATRICULA NM_SUBCATEGORIA  NN_MORADORES  ST_PISCINA    LAT_GEO  \\\n",
       "0     124584355          NORMAL             5           0 -12.950571   \n",
       "1     152961499          NORMAL             1           0 -12.943031   \n",
       "2     125305257   INTERMEDIARIA             8           0 -12.944554   \n",
       "3     123863460          NORMAL             3           0 -12.940758   \n",
       "4     126026156          NORMAL             2           0 -12.936883   \n",
       "\n",
       "    LONG_GEO              X             Y  \n",
       "0 -38.373685  567933.093052  8.568247e+06  \n",
       "1 -38.366573  568706.588075  8.569079e+06  \n",
       "2 -38.363644  569023.883741  8.568910e+06  \n",
       "3 -38.369058  568437.655084  8.569331e+06  \n",
       "4 -38.358508  569583.120489  8.569757e+06  "
      ]
     },
     "execution_count": 7,
     "metadata": {},
     "output_type": "execute_result"
    }
   ],
   "source": [
    "# 4. Upload the CSV file with the supply points\n",
    "pontos_df = pd.read_csv(os.path.join(caminho,'includes\\\\Tabela_consumidores_Itapua_convertida.csv'), sep=';')\n",
    "\n",
    "# 5. Display supply points and their coordinates\n",
    "pontos_df.head()"
   ]
  },
  {
   "cell_type": "code",
   "execution_count": null,
   "metadata": {},
   "outputs": [
    {
     "name": "stdout",
     "output_type": "stream",
     "text": [
      "   SK_MATRICULA NM_SUBCATEGORIA  NN_MORADORES  ST_PISCINA    LAT_GEO  \\\n",
      "0     124584355          NORMAL             5           0 -12.950571   \n",
      "1     152961499          NORMAL             1           0 -12.943031   \n",
      "2     125305257   INTERMEDIARIA             8           0 -12.944554   \n",
      "3     123863460          NORMAL             3           0 -12.940758   \n",
      "4     126026156          NORMAL             2           0 -12.936883   \n",
      "\n",
      "    LONG_GEO              X             Y         CD_SETOR  \n",
      "0 -38.373685  567933.093052  8.568247e+06  292740805090305  \n",
      "1 -38.366573  568706.588075  8.569079e+06  292740805090291  \n",
      "2 -38.363644  569023.883741  8.568910e+06  292740805090067  \n",
      "3 -38.369058  568437.655084  8.569331e+06  292740805090275  \n",
      "4 -38.358508  569583.120489  8.569757e+06  292740805090106  \n"
     ]
    }
   ],
   "source": [
    "\n",
    "# 6. Convert the Points DataFrame to a GeoDataFrame\n",
    "geometry = [Point(xy) for xy in zip(pontos_df['LONG_GEO'], pontos_df['LAT_GEO'])]\n",
    "pontos_gdf = gpd.GeoDataFrame(pontos_df, geometry=geometry, crs=\"EPSG:4326\")  # EPSG:4326 é o código para WGS84\n",
    "\n",
    "\n",
    "#7. Ensure both GeoDataFrames are in the same coordinate system\n",
    "pontos_gdf = pontos_gdf.to_crs(setores.crs)\n",
    "\n",
    "# 8. Perform the spatial join\n",
    "# This will add the census sector information (geometry and CD_SETOR) to each supply point\n",
    "resultado = gpd.sjoin(pontos_gdf, setores, how=\"left\", predicate=\"within\")\n",
    "\n",
    "#9. Delete unnecessary columns\n",
    "resultado.drop(columns=['geometry','index_right'],inplace=True)\n",
    "\n",
    "# 10. Delete lines that do not belong to the Itapuã census sectors\n",
    "resultado.dropna(subset=['CD_SETOR'], inplace=True)\n",
    "\n",
    "# 11. Save the result to a new CSV (optional)\n",
    "resultado.to_csv(os.path.join(caminho,'includes\\\\Tabela_consumidores_Itapua_com_setor.csv'), index=False)\n",
    "\n",
    "\n",
    "# 12. View the first few lines of the result\n",
    "print(resultado.head())"
   ]
  },
  {
   "cell_type": "code",
   "execution_count": 8,
   "metadata": {},
   "outputs": [
    {
     "name": "stdout",
     "output_type": "stream",
     "text": [
      "<class 'geopandas.geodataframe.GeoDataFrame'>\n",
      "Index: 15297 entries, 0 to 15331\n",
      "Data columns (total 9 columns):\n",
      " #   Column           Non-Null Count  Dtype  \n",
      "---  ------           --------------  -----  \n",
      " 0   SK_MATRICULA     15297 non-null  int64  \n",
      " 1   NM_SUBCATEGORIA  15297 non-null  object \n",
      " 2   NN_MORADORES     15297 non-null  int64  \n",
      " 3   ST_PISCINA       15297 non-null  int64  \n",
      " 4   LAT_GEO          15297 non-null  float64\n",
      " 5   LONG_GEO         15297 non-null  float64\n",
      " 6   X                15297 non-null  float64\n",
      " 7   Y                15297 non-null  float64\n",
      " 8   CD_SETOR         15297 non-null  object \n",
      "dtypes: float64(4), int64(3), object(2)\n",
      "memory usage: 1.2+ MB\n"
     ]
    }
   ],
   "source": [
    "resultado.info()"
   ]
  }
 ],
 "metadata": {
  "kernelspec": {
   "display_name": "Python 3",
   "language": "python",
   "name": "python3"
  },
  "language_info": {
   "codemirror_mode": {
    "name": "ipython",
    "version": 3
   },
   "file_extension": ".py",
   "mimetype": "text/x-python",
   "name": "python",
   "nbconvert_exporter": "python",
   "pygments_lexer": "ipython3",
   "version": "3.11.7"
  }
 },
 "nbformat": 4,
 "nbformat_minor": 2
}
