{
 "cells": [
  {
   "cell_type": "code",
   "execution_count": 1,
   "metadata": {},
   "outputs": [
    {
     "name": "stdout",
     "output_type": "stream",
     "text": [
      "                                        SK_MATRICULA NM_LOCALIDADE  \\\n",
      "0  6E60FF997A2A7FD7665AC40BAD9BE286D7C47A1C3521CE...  SALVADOR UMB   \n",
      "1  E6195B23791D174F7C612B6324CACDED0CBDC2283FC728...  SALVADOR UMB   \n",
      "2  0C2ED22E52F7B889C5DCB715B44E40C0CF4E25A77F1A17...  SALVADOR UMB   \n",
      "3  6D38EE4CEC85F41B626000179F50D3599EEFA9B20AC328...  SALVADOR UMB   \n",
      "4  0420BAE41A9CA4FBA6CE1F1E120C73D05448330C834D72...  SALVADOR UMB   \n",
      "\n",
      "  NM_CATEGORIATARIFARIA NM_SITUACAO_IMOVEL  NN_MORADORES  ST_PISCINA  \\\n",
      "0           RESIDENCIAL           HABITADO             1           0   \n",
      "1           RESIDENCIAL           HABITADO             1           0   \n",
      "2           RESIDENCIAL           HABITADO             1           0   \n",
      "3           RESIDENCIAL           HABITADO             1           0   \n",
      "4           RESIDENCIAL           HABITADO             1           0   \n",
      "\n",
      "     LAT_GEO   LONG_GEO              X             Y CD_SETOR  \\\n",
      "0 -12.938243 -38.359220  569505.509777  8.569607e+06     S166   \n",
      "1 -12.934564 -38.355526  569907.238405  8.570013e+06     S035   \n",
      "2 -12.940582 -38.362400  569159.917133  8.569349e+06     S032   \n",
      "3 -12.944986 -38.370763  568251.558470  8.568864e+06     S186   \n",
      "4 -12.940044 -38.359239  569502.949980  8.569408e+06     S105   \n",
      "\n",
      "   NN_MEDIA_CONSUMO  NN_CONSUMO_DIARIO TP_COMPORTAMENTO  \n",
      "0          9.500000         311.475410       PERDULARIO  \n",
      "1               NaN                NaN       PERDULARIO  \n",
      "2          7.833333         256.830601       PERDULARIO  \n",
      "3          1.750000          57.377049    AMBIENTALISTA  \n",
      "4          0.000000           0.000000    AMBIENTALISTA  \n"
     ]
    }
   ],
   "source": [
    "import pandas as pd\n",
    "import os\n",
    "\n",
    "caminho = 'C:\\\\Users\\\\Edmilson\\\\Gama_Workspace2\\\\ABMS-WP'\n",
    "\n",
    "# 1. Carregar os dados\n",
    "# Carregar o Tabela_consumidores_Itapua_com_setor.csv com SK_MATRICULA e NN_MORADORES\n",
    "arquivo_df = pd.read_csv(os.path.join(caminho,'includes\\\\Tabela_consumidores_Itapua_com_setor.csv'), sep=',')\n",
    "\n",
    "# Carregar o arquivo Tabela_consumo_Itapua_12m.csv\n",
    "consumo_df = pd.read_csv(os.path.join(caminho,'includes\\\\Tabela_consumo_Itapua_60m.csv'), sep=';')\n",
    "\n",
    "# 2. Calcular a média de consumo dos últimos 6 meses para cada SK_MATRICULA\n",
    "# Converter AM_REFERENCIA para datetime para facilitar a filtragem\n",
    "consumo_df['AM_REFERENCIA'] = pd.to_datetime(consumo_df['AM_REFERENCIA'], format='%Y%m')\n",
    "\n",
    "# Ordenar por SK_MATRICULA e AM_REFERENCIA\n",
    "consumo_df = consumo_df.sort_values(by=['SK_MATRICULA', 'AM_REFERENCIA'], ascending=[True, False])\n",
    "\n",
    "# Filtrar os últimos 12 meses para cada SK_MATRICULA\n",
    "ultimos_12_meses = consumo_df.groupby('SK_MATRICULA').head(12)\n",
    "\n",
    "# Calcular a média de consumo (NN_MEDIA_CONSUMO) para cada SK_MATRICULA\n",
    "media_consumo = ultimos_12_meses.groupby('SK_MATRICULA')['HCLQTCON'].mean().reset_index()\n",
    "media_consumo.rename(columns={'HCLQTCON': 'NN_MEDIA_CONSUMO'}, inplace=True)\n",
    "\n",
    "\n",
    "# 3. Juntar a média de consumo ao arquivo.csv\n",
    "arquivo_df = pd.merge(arquivo_df, media_consumo, on='SK_MATRICULA', how='left')\n",
    "\n",
    "# Primeiro, remover registros onde CD_SETOR é nulo ou vazio\n",
    "arquivo_df = arquivo_df.dropna(subset=['CD_SETOR'])  # Remove registros com CD_SETOR nulo\n",
    "arquivo_df = arquivo_df[arquivo_df['CD_SETOR'].astype(str) != '']  # Remove registros com CD_SETOR vazio\n",
    "\n",
    "# Extrair os últimos 3 caracteres da coluna CD_SETOR\n",
    "arquivo_df['CD_SETOR'] = 'S' + arquivo_df['CD_SETOR'].astype(str).str[-3:]\n",
    "\n",
    "# Tratar casos onde NN_MORADORES == 0, substituindo por 1\n",
    "arquivo_df['NN_MORADORES'] = arquivo_df['NN_MORADORES'].replace(0, 1)\n",
    "\n",
    "# 4. Classificar o comportamento (AMBIENTALISTA, NORMAL ou PERDULÁRIO)\n",
    "# AMBIENTALISTA < 130\n",
    "# NORMAL > 130 E <= 160\n",
    "# PERDULARIO > 160\n",
    "arquivo_df['NN_CONSUMO_DIARIO'] = ((arquivo_df['NN_MEDIA_CONSUMO']*1000 / arquivo_df['NN_MORADORES']) / 30.5)\n",
    "arquivo_df['TP_COMPORTAMENTO'] = arquivo_df['NN_CONSUMO_DIARIO'].apply(\n",
    "    lambda consumo: \n",
    "                   'AMBIENTALISTA' if consumo < 130 \n",
    "                   else 'MODERADO' if 130 <= consumo <= 160 \n",
    "                   else 'PERDULARIO'\n",
    ")\n",
    "\n",
    "\n",
    "# 5. Salvar o arquivo.csv com a nova coluna TP_COMPORTAMENTO\n",
    "arquivo_df.to_csv(os.path.join(caminho,'includes\\\\Tabela_consumidores_Itapua_com_setor_e_comportamento.csv'), sep=';',index=False)\n",
    "\n",
    "# 6. Visualizar o resultado\n",
    "print(arquivo_df.head())\n",
    "\n",
    "# Calcular estatísticas por perfil\n",
    "contagem_comportamento = arquivo_df['TP_COMPORTAMENTO'].value_counts()\n",
    "percentual_comportamento = arquivo_df['TP_COMPORTAMENTO'].value_counts(normalize=True) * 100\n",
    "media_consumo_perfil = arquivo_df.groupby('TP_COMPORTAMENTO')['NN_CONSUMO_DIARIO'].mean()\n",
    "\n"
   ]
  },
  {
   "cell_type": "code",
   "execution_count": 2,
   "metadata": {},
   "outputs": [
    {
     "name": "stdout",
     "output_type": "stream",
     "text": [
      "\n",
      "Estatísticas por Perfil de Consumo:\n",
      "                  Contagem  Percentual (%)  Média Consumo Diário (L)\n",
      "TP_COMPORTAMENTO                                                    \n",
      "AMBIENTALISTA         7965       52.069033                 52.621962\n",
      "MODERADO              1086        7.099431                144.315598\n",
      "PERDULARIO            6246       40.831536                510.352010\n"
     ]
    }
   ],
   "source": [
    "# Combinar os resultados em um único DataFrame\n",
    "resultado = pd.DataFrame({\n",
    "    'Contagem': contagem_comportamento,\n",
    "    'Percentual (%)': percentual_comportamento,\n",
    "    'Média Consumo Diário (L)': media_consumo_perfil\n",
    "})\n",
    "\n",
    "# Exibir o resultado\n",
    "print(\"\\nEstatísticas por Perfil de Consumo:\")\n",
    "print(resultado)"
   ]
  }
 ],
 "metadata": {
  "kernelspec": {
   "display_name": "Python 3",
   "language": "python",
   "name": "python3"
  },
  "language_info": {
   "codemirror_mode": {
    "name": "ipython",
    "version": 3
   },
   "file_extension": ".py",
   "mimetype": "text/x-python",
   "name": "python",
   "nbconvert_exporter": "python",
   "pygments_lexer": "ipython3",
   "version": "3.11.7"
  }
 },
 "nbformat": 4,
 "nbformat_minor": 2
}
