{
 "cells": [
  {
   "cell_type": "code",
   "execution_count": 3,
   "metadata": {},
   "outputs": [
    {
     "name": "stdout",
     "output_type": "stream",
     "text": [
      "Arquivo salvo com sucesso em: C:\\Users\\Edmilson\\Gama_Workspace2\\ABMS-WP\\includes\\Tabela_consumo_medio_Itapua_12m.csv\n"
     ]
    }
   ],
   "source": [
    "import pandas as pd\n",
    "import os\n",
    "\n",
    "\n",
    "caminho = 'C:\\\\Users\\\\Edmilson\\\\Gama_Workspace2\\\\ABMS-WP'\n",
    "\n",
    "# Caminho do arquivo CSV de entrada\n",
    "input_csv = os.path.join(caminho, 'includes', 'Tabela_consumo_Itapua_60m.csv')\n",
    "# Caminho do arquivo CSV de saída\n",
    "output_csv = os.path.join(caminho, 'includes', 'Tabela_consumo_medio_Itapua_12m.csv')\n",
    "\n",
    "# Ler o arquivo CSV\n",
    "df = pd.read_csv(input_csv, delimiter=';')\n",
    "\n",
    "df = df.sort_values(by=['SK_MATRICULA','AM_REFERENCIA'], ascending=[True, False])\n",
    "\n",
    "df = df.groupby('SK_MATRICULA').head(12)\n",
    "\n",
    "# Calcular a média do campo HCLQTCON para cada SK_MATRICULA\n",
    "media_por_matricula = df.groupby('SK_MATRICULA')['HCLQTCON'].mean().reset_index()\n",
    "\n",
    "# Salvar o resultado em um novo arquivo CSV\n",
    "media_por_matricula.to_csv(output_csv, index=False, sep=';')\n",
    "\n",
    "print(f\"Arquivo salvo com sucesso em: {output_csv}\")"
   ]
  }
 ],
 "metadata": {
  "kernelspec": {
   "display_name": "Python 3",
   "language": "python",
   "name": "python3"
  },
  "language_info": {
   "codemirror_mode": {
    "name": "ipython",
    "version": 3
   },
   "file_extension": ".py",
   "mimetype": "text/x-python",
   "name": "python",
   "nbconvert_exporter": "python",
   "pygments_lexer": "ipython3",
   "version": "3.11.7"
  }
 },
 "nbformat": 4,
 "nbformat_minor": 2
}
