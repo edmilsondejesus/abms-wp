{
 "cells": [
  {
   "cell_type": "code",
   "execution_count": 1,
   "metadata": {},
   "outputs": [],
   "source": [
    "import pandas as pd\n",
    "import os\n",
    "\n",
    "caminho = 'C:\\\\Users\\\\Edmilson\\\\Gama_Workspace2\\\\ABMS-WP'\n",
    "\n",
    "# 1. Carregar os dados\n",
    "# Carregar o Tabela_consumidores_Itapua_com_setor.csv com SK_MATRICULA e NN_MORADORES\n",
    "arquivo_df = pd.read_csv(os.path.join(caminho,'includes\\\\Tabela_consumidores_Itapua_com_setor.csv'), sep=',')\n",
    "\n",
    "# Carregar o arquivo Tabela_consumo_Itapua_12m.csv\n",
    "consumo_df = pd.read_csv(os.path.join(caminho,'includes\\\\Tabela_consumo_Itapua_60m.csv'), sep=';')\n",
    "\n",
    "# 2. Calcular a média de consumo dos últimos 6 meses para cada SK_MATRICULA\n",
    "# Converter AM_REFERENCIA para datetime para facilitar a filtragem\n",
    "consumo_df['AM_REFERENCIA'] = pd.to_datetime(consumo_df['AM_REFERENCIA'], format='%Y%m')\n",
    "\n",
    "# Ordenar por SK_MATRICULA e AM_REFERENCIA\n",
    "consumo_df = consumo_df.sort_values(by=['SK_MATRICULA', 'AM_REFERENCIA'], ascending=[True, False])\n",
    "\n",
    "# Filtrar os últimos 12 meses para cada SK_MATRICULA\n",
    "ultimos_12_meses = consumo_df.groupby('SK_MATRICULA').head(12)\n",
    "\n",
    "# Calcular a média de consumo (NN_MEDIA_CONSUMO) para cada SK_MATRICULA\n",
    "media_consumo = ultimos_12_meses.groupby('SK_MATRICULA')['HCLQTCON'].mean().reset_index()\n",
    "media_consumo.rename(columns={'HCLQTCON': 'NN_MEDIA_CONSUMO'}, inplace=True)\n"
   ]
  },
  {
   "cell_type": "code",
   "execution_count": 2,
   "metadata": {},
   "outputs": [],
   "source": [
    "\n",
    "# 3. Juntar a média de consumo ao arquivo.csv\n",
    "arquivo_df = pd.merge(arquivo_df, media_consumo, on='SK_MATRICULA', how='left')"
   ]
  },
  {
   "cell_type": "code",
   "execution_count": 3,
   "metadata": {},
   "outputs": [],
   "source": [
    "# Primeiro, remover registros onde CD_SETOR é nulo ou vazio\n",
    "arquivo_df = arquivo_df.dropna(subset=['CD_SETOR'])  # Remove registros com CD_SETOR nulo\n",
    "arquivo_df = arquivo_df[arquivo_df['CD_SETOR'].astype(str) != '']  # Remove registros com CD_SETOR vazio"
   ]
  },
  {
   "cell_type": "code",
   "execution_count": 4,
   "metadata": {},
   "outputs": [],
   "source": [
    "# Extrair os últimos 3 caracteres da coluna CD_SETOR\n",
    "arquivo_df['CD_SETOR'] = 'S' + arquivo_df['CD_SETOR'].astype(str).str[-5:-2]"
   ]
  },
  {
   "cell_type": "code",
   "execution_count": 5,
   "metadata": {},
   "outputs": [
    {
     "name": "stdout",
     "output_type": "stream",
     "text": [
      "   SK_MATRICULA NM_SUBCATEGORIA  NN_MORADORES  ST_PISCINA    LAT_GEO  \\\n",
      "0     124584355          NORMAL             5           0 -12.950571   \n",
      "1     152961499          NORMAL             1           0 -12.943031   \n",
      "2     125305257   INTERMEDIARIA             8           0 -12.944554   \n",
      "3     123863460          NORMAL             3           0 -12.940758   \n",
      "4     126026156          NORMAL             2           0 -12.936883   \n",
      "\n",
      "    LONG_GEO              X             Y CD_SETOR  NN_MEDIA_CONSUMO  \\\n",
      "0 -38.373685  567933.093052  8.568247e+06     S305          3.916667   \n",
      "1 -38.366573  568706.588075  8.569079e+06     S291          8.583333   \n",
      "2 -38.363644  569023.883741  8.568910e+06     S067          8.250000   \n",
      "3 -38.369058  568437.655084  8.569331e+06     S275         23.083333   \n",
      "4 -38.358508  569583.120489  8.569757e+06     S106          5.833333   \n",
      "\n",
      "   NN_CONSUMO_DIARIO TP_COMPORTAMENTO  \n",
      "0          25.683060    AMBIENTALISTA  \n",
      "1         281.420765       PERDULARIO  \n",
      "2          33.811475    AMBIENTALISTA  \n",
      "3         252.276867       PERDULARIO  \n",
      "4          95.628415    AMBIENTALISTA  \n"
     ]
    }
   ],
   "source": [
    "\n",
    "\n",
    "# 4. Classificar o comportamento (AMBIENTALISTA, NORMAL ou PERDULÁRIO)\n",
    "# AMBIENTALISTA < 130\n",
    "# NORMAL > 130 E <= 160\n",
    "# PERDULARIO > 160\n",
    "arquivo_df['NN_CONSUMO_DIARIO'] = ((arquivo_df['NN_MEDIA_CONSUMO']*1000 / arquivo_df['NN_MORADORES']) / 30.5)\n",
    "arquivo_df['TP_COMPORTAMENTO'] = arquivo_df['NN_CONSUMO_DIARIO'].apply(\n",
    "    lambda consumo: \n",
    "                   'AMBIENTALISTA' if consumo < 130 \n",
    "                   else 'MODERADO' if 130 <= consumo <= 160 \n",
    "                   else 'PERDULARIO'\n",
    ")\n",
    "\n",
    "\n",
    "# 5. Salvar o arquivo.csv com a nova coluna TP_COMPORTAMENTO\n",
    "arquivo_df.to_csv(os.path.join(caminho,'includes\\\\Tabela_consumidores_Itapua_com_setor_e_comportamento.csv'), sep=';',index=False)\n",
    "\n",
    "# 6. Visualizar o resultado\n",
    "print(arquivo_df.head())"
   ]
  },
  {
   "cell_type": "code",
   "execution_count": 6,
   "metadata": {},
   "outputs": [
    {
     "name": "stdout",
     "output_type": "stream",
     "text": [
      "                  Contagem  Percentual (%)\n",
      "TP_COMPORTAMENTO                          \n",
      "PERDULARIO            9205       60.175198\n",
      "AMBIENTALISTA         5330       34.843433\n",
      "MODERADO               762        4.981369\n"
     ]
    }
   ],
   "source": [
    "# Contagem de AMBIENTALISTAS, NORMAL e PERDULÁRIOS\n",
    "contagem_comportamento = arquivo_df['TP_COMPORTAMENTO'].value_counts()\n",
    "\n",
    "# Percentual em relação ao total\n",
    "percentual_comportamento = arquivo_df['TP_COMPORTAMENTO'].value_counts(normalize=True) * 100\n",
    "\n",
    "# Combinar os resultados em um único DataFrame\n",
    "resultado = pd.DataFrame({\n",
    "    'Contagem': contagem_comportamento,\n",
    "    'Percentual (%)': percentual_comportamento\n",
    "})\n",
    "\n",
    "# Exibir o resultado\n",
    "print(resultado)"
   ]
  }
 ],
 "metadata": {
  "kernelspec": {
   "display_name": "Python 3",
   "language": "python",
   "name": "python3"
  },
  "language_info": {
   "codemirror_mode": {
    "name": "ipython",
    "version": 3
   },
   "file_extension": ".py",
   "mimetype": "text/x-python",
   "name": "python",
   "nbconvert_exporter": "python",
   "pygments_lexer": "ipython3",
   "version": "3.11.7"
  }
 },
 "nbformat": 4,
 "nbformat_minor": 2
}
